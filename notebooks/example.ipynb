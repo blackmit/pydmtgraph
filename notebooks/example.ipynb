{
 "cells": [
  {
   "cell_type": "code",
   "execution_count": 9,
   "id": "a2332857",
   "metadata": {},
   "outputs": [],
   "source": [
    "from PyDMTGraph.dmtgraph import DMTGraph\n",
    "from PyDMTGraph.helper import plotGraph"
   ]
  },
  {
   "cell_type": "code",
   "execution_count": 10,
   "id": "da200b53",
   "metadata": {},
   "outputs": [],
   "source": [
    "import cv2\n",
    "import numpy as np\n",
    "import matplotlib as mpl\n",
    "import matplotlib.pyplot as plt"
   ]
  },
  {
   "cell_type": "code",
   "execution_count": 11,
   "id": "5597c9b9",
   "metadata": {},
   "outputs": [],
   "source": [
    "# helper functions to preprocess images\n",
    "def blur(im, n_itr=5):\n",
    "    im_blur = np.copy(im)\n",
    "    for _ in range(n_itr):\n",
    "        im_blur = cv2.GaussianBlur(im_blur, (3,3), 0)\n",
    "    return im_blur\n",
    "\n",
    "def sharpen(im, n_itr=5):\n",
    "    kernel = 1/34 * np.array([[ 0,  0, -1,  0,  0],\n",
    "                              [ 0, -1, -2, -1,  0],\n",
    "                              [-1, -2, 17, -2, -1],\n",
    "                              [ 0, -1, -2, -1,  0],\n",
    "                              [ 0,  0, -1,  0,  0]])\n",
    "    im_sharpen = np.copy(im)\n",
    "    for _ in range(n_itr):\n",
    "        im_sharpen += np.abs(cv2.filter2D(im_sharpen, -1, kernel))\n",
    "\n",
    "    return im_sharpen"
   ]
  },
  {
   "cell_type": "code",
   "execution_count": 12,
   "id": "df9184ca",
   "metadata": {},
   "outputs": [
    {
     "data": {
      "text/plain": [
       "<matplotlib.image.AxesImage at 0x1197e7fd0>"
      ]
     },
     "execution_count": 12,
     "metadata": {},
     "output_type": "execute_result"
    },
    {
     "data": {
      "image/png": "[encoded data removed]",
      "text/plain": [
       "<Figure size 432x288 with 1 Axes>"
      ]
     },
     "metadata": {
      "needs_background": "light"
     },
     "output_type": "display_data"
    }
   ],
   "source": [
    "img = cv2.imread(\"../GraphData/1.png\", cv2.IMREAD_GRAYSCALE).astype(np.double)\n",
    "img = cv2.resize(img, (500, 500))\n",
    "plt.imshow(img, cmap=\"gray\")"
   ]
  },
  {
   "cell_type": "code",
   "execution_count": 13,
   "id": "2b8e93c5",
   "metadata": {},
   "outputs": [],
   "source": [
    "img = sharpen(img)\n",
    "img = blur(img)"
   ]
  },
  {
   "cell_type": "code",
   "execution_count": 14,
   "id": "5ab308d1",
   "metadata": {},
   "outputs": [],
   "source": [
    "G = DMTGraph(img)"
   ]
  },
  {
   "cell_type": "code",
   "execution_count": 15,
   "id": "a8c06c97",
   "metadata": {},
   "outputs": [],
   "source": [
    "vertices, edges = G.computeGraph(1.0, 0.0)"
   ]
  },
  {
   "cell_type": "code",
   "execution_count": 16,
   "id": "95083db7",
   "metadata": {},
   "outputs": [
    {
     "data": {
      "image/png": "[encoded data removed]",
      "text/plain": [
       "<Figure size 432x288 with 1 Axes>"
      ]
     },
     "metadata": {
      "needs_background": "light"
     },
     "output_type": "display_data"
    }
   ],
   "source": [
    "fig, ax = plt.subplots()\n",
    "ax.imshow(img)\n",
    "plotGraph(ax, vertices, edges)"
   ]
  },
  {
   "cell_type": "code",
   "execution_count": null,
   "id": "ed34fbda",
   "metadata": {},
   "outputs": [],
   "source": []
  },
  {
   "cell_type": "code",
   "execution_count": null,
   "id": "00da01b3",
   "metadata": {},
   "outputs": [],
   "source": []
  }
 ],
 "metadata": {
  "kernelspec": {
   "display_name": "Python 3 (ipykernel)",
   "language": "python",
   "name": "python3"
  },
  "language_info": {
   "codemirror_mode": {
    "name": "ipython",
    "version": 3
   },
   "file_extension": ".py",
   "mimetype": "text/x-python",
   "name": "python",
   "nbconvert_exporter": "python",
   "pygments_lexer": "ipython3",
   "version": "3.9.6"
  }
 },
 "nbformat": 4,
 "nbformat_minor": 5
}
